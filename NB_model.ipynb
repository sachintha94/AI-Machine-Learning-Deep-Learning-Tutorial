{
  "nbformat": 4,
  "nbformat_minor": 0,
  "metadata": {
    "colab": {
      "provenance": []
    },
    "kernelspec": {
      "name": "python3",
      "display_name": "Python 3"
    },
    "language_info": {
      "name": "python"
    }
  },
  "cells": [
    {
      "cell_type": "code",
      "execution_count": 15,
      "metadata": {
        "id": "jxwhrHEcPWw4"
      },
      "outputs": [],
      "source": [
        "# Libraries\n",
        "import pandas as pd\n",
        "import seaborn as sns\n",
        "import matplotlib.pyplot as plt\n",
        "from sklearn.naive_bayes import GaussianNB, MultinomialNB, BernoulliNB\n",
        "from sklearn.model_selection import train_test_split\n",
        "from sklearn.metrics import accuracy_score\n",
        "from sklearn.metrics import accuracy_score, precision_score, recall_score, f1_score, confusion_matrix"
      ]
    },
    {
      "cell_type": "code",
      "source": [
        "# import Dataset\n",
        "Data = pd.read_csv('/content/Data_new.csv')"
      ],
      "metadata": {
        "id": "a6f3MgGIQPQR"
      },
      "execution_count": 16,
      "outputs": []
    },
    {
      "cell_type": "code",
      "source": [
        "print(Data)"
      ],
      "metadata": {
        "colab": {
          "base_uri": "https://localhost:8080/"
        },
        "id": "6vRdY2MtSIkt",
        "outputId": "cfdeaecf-6fe3-4e60-9a6f-e4584e19f0bb"
      },
      "execution_count": 17,
      "outputs": [
        {
          "output_type": "stream",
          "name": "stdout",
          "text": [
            "    Total_credit  X3C  X3E  X4C  X4E  X5C  X5E  X6C  X7C  X7E  ...  J4E  J5C  \\\n",
            "0             11    6    0    0    0    0    0    0    0    0  ...    0    0   \n",
            "1             61   25    0   15    0    0    0    0    0    0  ...    0    0   \n",
            "2             52   25    0   15    0    0    0    0    0    0  ...    0    0   \n",
            "3             49   25    0   12    0    0    0    0    0    0  ...    0    0   \n",
            "4            152   25    0   20    2   23    0    6    7    7  ...    2    3   \n",
            "5             69   25    0   20    0    0    0    0    0    0  ...    0    0   \n",
            "6              8    8    0    0    0    0    0    0    0    0  ...    0    0   \n",
            "7            141   25    0   20    2   23    0    6    7    4  ...    2    3   \n",
            "8             17   10    0    0    0    0    0    0    0    0  ...    0    0   \n",
            "9             20    5    0    3    0    0    0    0    0    0  ...    0    0   \n",
            "10            56   25    2   15    0    0    0    0    0    0  ...    0    0   \n",
            "11            73   25    2   20    0    0    0    0    0    0  ...    2    0   \n",
            "12            83   25    0   20    2    5    0    0    0    0  ...    0    0   \n",
            "13            95   25    0   20    0   20    0    0    0    0  ...    0    0   \n",
            "14            63   23    0   18    0    0    0    0    0    0  ...    0    0   \n",
            "15            15   10    0    0    0    0    0    0    0    0  ...    0    0   \n",
            "16            84   25    0   20    0   10    0    0    0    0  ...    0    0   \n",
            "17            35   25    0    0    0    0    0    0    0    0  ...    0    0   \n",
            "18           142   25    2   20    0   23    0    6    7    5  ...    2    3   \n",
            "19           136   25    0   20    2   23    2    6    4    0  ...    0    3   \n",
            "20           132   25    0   20    0   23    2    6    2    0  ...    2    3   \n",
            "21           119   25    2   20    0   23    0    2    0    0  ...    0    3   \n",
            "22            50   21    0   10    0    0    0    0    0    0  ...    0    0   \n",
            "23            61   25    0   15    0    0    0    0    0    0  ...    0    0   \n",
            "24            37   25    0    0    0    0    0    0    0    0  ...    0    0   \n",
            "25            71   25    0   20    2    0    0    0    0    0  ...    0    0   \n",
            "26            71   25    2   20    0    0    0    0    0    0  ...    0    0   \n",
            "27           120   25    3   20    0   23    0    6    0    0  ...    2    3   \n",
            "28            33   20    0    8    0    0    0    0    0    0  ...    0    0   \n",
            "29           160   25    0   20    2   23    8    6    7    7  ...    2    3   \n",
            "30            36   10    0    7    0    0    3    0    0    0  ...    0    0   \n",
            "31            42   10    0   10    0    6    3    0    0    0  ...    0    0   \n",
            "32            83   25    0   20    0    9    3    0    0    0  ...    2    0   \n",
            "33            73   25    0   20    2    0    0    0    0    0  ...    0    0   \n",
            "34            86   25    0   20    2   17    0    0    0    0  ...    0    0   \n",
            "35           136   25    2   20    0   23    0    6    0    6  ...    0    3   \n",
            "36           146   25    0   20    0   23    3    6    7    0  ...    2    3   \n",
            "37           127   25    0   20    0   23    2    5    0    0  ...    0    3   \n",
            "38            86   25    0   20    2   10    3    0    0    0  ...    2    0   \n",
            "39            45   25    2    3    0    0    0    0    0    0  ...    0    0   \n",
            "40            23   13    0    0    0    0    0    0    0    0  ...    0    0   \n",
            "41             2    2    0    0    0    0    0    0    0    0  ...    0    0   \n",
            "42            59   25    0   20    2    0    0    0    0    0  ...    0    0   \n",
            "43             6    6    0    0    0    0    0    0    0    0  ...    0    0   \n",
            "44             0    0    0    0    0    0    0    0    0    0  ...    0    0   \n",
            "45           154   25    0   20    0   23    7    6    7    7  ...    2    3   \n",
            "46            35   25    0    0    0    0    0    0    0    0  ...    0    0   \n",
            "47           155   25    2   20    0   23    3    6    7    7  ...    2    3   \n",
            "48             0    0    0    0    0    0    0    0    0    0  ...    0    0   \n",
            "49            10    5    0    0    0    0    0    0    0    0  ...    0    0   \n",
            "\n",
            "    J5E  M3C  M4C  M5C  M6C  W4C  W5C    Class  \n",
            "0     0    0    0    0    0    0    0  level 3  \n",
            "1     0    2    3    0    0    0    0  level 3  \n",
            "2     0    2    0    0    0    0    0  level 3  \n",
            "3     0    2    0    0    0    0    0  level 3  \n",
            "4     0    2    3    4    8    3    5  level 7  \n",
            "5     0    2    3    0    0    3    0  level 4  \n",
            "6     0    0    0    0    0    0    0  level 3  \n",
            "7     0    2    3    4    8    3    5  level 6  \n",
            "8     0    2    0    0    0    0    0  level 3  \n",
            "9     0    2    0    0    0    0    0  level 3  \n",
            "10    0    2    0    0    0    0    0  level 3  \n",
            "11    0    2    3    0    0    3    0  level 4  \n",
            "12    0    2    3    0    0    3    0  level 4  \n",
            "13    3    2    3    0    0    3    0  level 4  \n",
            "14    0    2    3    0    0    2    0  level 3  \n",
            "15    0    0    0    0    0    0    0  level 3  \n",
            "16    0    2    3    0    0    3    0  level 4  \n",
            "17    0    0    0    0    0    0    0  level 3  \n",
            "18    0    2    3    4    8    3    5  level 6  \n",
            "19    3    2    3    4    8    3    4  level 6  \n",
            "20    0    2    3    4    8    3    5  level 6  \n",
            "21    3    2    3    4    0    3    5  level 5  \n",
            "22    0    2    3    0    0    3    0  level 3  \n",
            "23    0    2    0    0    0    3    0  level 3  \n",
            "24    0    2    0    0    0    0    0  level 3  \n",
            "25    0    2    3    0    0    3    0  level 3  \n",
            "26    0    2    3    0    0    3    0  level 4  \n",
            "27    0    2    3    4    0    3    5  level 4  \n",
            "28    0    0    0    0    0    0    0  level 3  \n",
            "29    0    2    3    4    8    3    5  level 7  \n",
            "30    0    2    0    0    0    3    0  level 3  \n",
            "31    0    0    0    0    0    3    0  level 3  \n",
            "32    0    2    3    0    0    3    0  level 4  \n",
            "33    0    2    3    0    0    3    0  level 4  \n",
            "34    3    0    0    0    0    3    0  level 3  \n",
            "35    0    2    3    4    8    3    5  level 6  \n",
            "36    0    2    3    4    8    3    5  level 6  \n",
            "37    0    2    3    4    6    3    5  level 5  \n",
            "38    0    2    3    0    0    3    0  level 4  \n",
            "39    0    2    3    0    0    0    0  level 3  \n",
            "40    0    0    0    0    0    0    0  level 3  \n",
            "41    0    0    0    0    0    0    0  level 3  \n",
            "42    0    2    0    0    0    0    0  level 3  \n",
            "43    0    0    0    0    0    0    0  level 3  \n",
            "44    0    0    0    0    0    0    0  level 3  \n",
            "45    0    2    0    4    8    3    5  level 7  \n",
            "46    0    0    0    0    0    0    0  level 3  \n",
            "47    0    2    3    4    8    3    5  level 7  \n",
            "48    0    0    0    0    0    0    0  level 3  \n",
            "49    0    0    0    0    0    0    0  level 3  \n",
            "\n",
            "[50 rows x 26 columns]\n"
          ]
        }
      ]
    },
    {
      "cell_type": "code",
      "source": [
        "print(Data['Class'].unique())"
      ],
      "metadata": {
        "colab": {
          "base_uri": "https://localhost:8080/"
        },
        "id": "-NPNNGWnQc4P",
        "outputId": "01637f14-bca6-493a-d6ae-7f83257604f5"
      },
      "execution_count": 18,
      "outputs": [
        {
          "output_type": "stream",
          "name": "stdout",
          "text": [
            "['level 3' 'level 7' 'level 4' 'level 6' 'level 5']\n"
          ]
        }
      ]
    },
    {
      "cell_type": "code",
      "source": [
        "# Map values for each column individually\n",
        "Data['Class'] = Data['Class'].map({'level 3': 0, 'level 4': 1, 'level 5': 2, 'level 6': 3, 'level 7': 4})"
      ],
      "metadata": {
        "id": "T0xd4IZZREuK"
      },
      "execution_count": 19,
      "outputs": []
    },
    {
      "cell_type": "code",
      "source": [
        "print(Data.head())"
      ],
      "metadata": {
        "colab": {
          "base_uri": "https://localhost:8080/"
        },
        "id": "8eeF_p8SRbu0",
        "outputId": "e8b53ca7-275e-474a-b0d4-367a5c73b1ab"
      },
      "execution_count": 20,
      "outputs": [
        {
          "output_type": "stream",
          "name": "stdout",
          "text": [
            "   Total_credit  X3C  X3E  X4C  X4E  X5C  X5E  X6C  X7C  X7E  ...  J4E  J5C  \\\n",
            "0            11    6    0    0    0    0    0    0    0    0  ...    0    0   \n",
            "1            61   25    0   15    0    0    0    0    0    0  ...    0    0   \n",
            "2            52   25    0   15    0    0    0    0    0    0  ...    0    0   \n",
            "3            49   25    0   12    0    0    0    0    0    0  ...    0    0   \n",
            "4           152   25    0   20    2   23    0    6    7    7  ...    2    3   \n",
            "\n",
            "   J5E  M3C  M4C  M5C  M6C  W4C  W5C  Class  \n",
            "0    0    0    0    0    0    0    0      0  \n",
            "1    0    2    3    0    0    0    0      0  \n",
            "2    0    2    0    0    0    0    0      0  \n",
            "3    0    2    0    0    0    0    0      0  \n",
            "4    0    2    3    4    8    3    5      4  \n",
            "\n",
            "[5 rows x 26 columns]\n"
          ]
        }
      ]
    },
    {
      "cell_type": "code",
      "source": [
        "# Class divide\n",
        "X = Data.iloc[:, :-1]\n",
        "y = Data.iloc[:, -1]"
      ],
      "metadata": {
        "id": "V1JTuYizT89Y"
      },
      "execution_count": 21,
      "outputs": []
    },
    {
      "cell_type": "code",
      "source": [
        "# Verify that X and y\n",
        "print(\"Features (X):\")\n",
        "print(X.head())\n",
        "\n",
        "print(\"\\nTarget (y):\")\n",
        "print(y.head())"
      ],
      "metadata": {
        "colab": {
          "base_uri": "https://localhost:8080/"
        },
        "id": "KorOV3DgVQXN",
        "outputId": "df8d44a8-fc04-4a22-d56f-d7dc573ac7f8"
      },
      "execution_count": 22,
      "outputs": [
        {
          "output_type": "stream",
          "name": "stdout",
          "text": [
            "Features (X):\n",
            "   Total_credit  X3C  X3E  X4C  X4E  X5C  X5E  X6C  X7C  X7E  ...  J3E  J4E  \\\n",
            "0            11    6    0    0    0    0    0    0    0    0  ...    0    0   \n",
            "1            61   25    0   15    0    0    0    0    0    0  ...    0    0   \n",
            "2            52   25    0   15    0    0    0    0    0    0  ...    0    0   \n",
            "3            49   25    0   12    0    0    0    0    0    0  ...    0    0   \n",
            "4           152   25    0   20    2   23    0    6    7    7  ...    0    2   \n",
            "\n",
            "   J5C  J5E  M3C  M4C  M5C  M6C  W4C  W5C  \n",
            "0    0    0    0    0    0    0    0    0  \n",
            "1    0    0    2    3    0    0    0    0  \n",
            "2    0    0    2    0    0    0    0    0  \n",
            "3    0    0    2    0    0    0    0    0  \n",
            "4    3    0    2    3    4    8    3    5  \n",
            "\n",
            "[5 rows x 25 columns]\n",
            "\n",
            "Target (y):\n",
            "0    0\n",
            "1    0\n",
            "2    0\n",
            "3    0\n",
            "4    4\n",
            "Name: Class, dtype: int64\n"
          ]
        }
      ]
    },
    {
      "cell_type": "markdown",
      "source": [
        "---------------------------- Training Dataset Using SVM ----------------------------"
      ],
      "metadata": {
        "id": "ycbzpB-6Vnkf"
      }
    },
    {
      "cell_type": "code",
      "source": [
        "#Split the data into training and testing sets\n",
        "X_train, X_test, y_train, y_test = train_test_split(X, y, test_size=0.3, random_state=1)"
      ],
      "metadata": {
        "id": "wMh4ulPwVeiI"
      },
      "execution_count": 23,
      "outputs": []
    },
    {
      "cell_type": "code",
      "source": [
        "#Naive Bayes Model Train and test\n",
        "model = MultinomialNB()\n",
        "model.fit(X_train, y_train)\n",
        "y_pred = model.predict(X_test)"
      ],
      "metadata": {
        "id": "DzBBskXjWIbv"
      },
      "execution_count": 24,
      "outputs": []
    },
    {
      "cell_type": "code",
      "source": [
        "#Naive Bayes Model Train and test\n",
        "model_G = GaussianNB()\n",
        "model_G.fit(X_train, y_train)\n",
        "y_pred = model_G.predict(X_test)"
      ],
      "metadata": {
        "id": "TPrwjOeUzx_c"
      },
      "execution_count": null,
      "outputs": []
    },
    {
      "cell_type": "code",
      "source": [
        "accuracy = accuracy_score(y_test, y_pred)\n",
        "precision = precision_score(y_test, y_pred, average='weighted')\n",
        "recall = recall_score(y_test, y_pred, average='weighted')\n",
        "f1 = f1_score(y_test, y_pred, average='weighted')\n",
        "\n",
        "print(f\"Accuracy: {accuracy*100:.4f}%\")\n",
        "print(f\"Precision: {precision:.4f}\")\n",
        "print(f\"Recall: {recall:.4f}\")\n",
        "print(f\"F1 Score: {f1:.4f}\")"
      ],
      "metadata": {
        "id": "DfcJwwmU3his"
      },
      "execution_count": null,
      "outputs": []
    },
    {
      "cell_type": "code",
      "source": [
        "accuracy = accuracy_score(y_test, y_pred)\n",
        "precision = precision_score(y_test, y_pred, average='weighted')\n",
        "recall = recall_score(y_test, y_pred, average='weighted')\n",
        "f1 = f1_score(y_test, y_pred, average='weighted')\n",
        "\n",
        "print(f\"Accuracy: {accuracy*100:.4f}%\")\n",
        "print(f\"Precision: {precision:.4f}\")\n",
        "print(f\"Recall: {recall:.4f}\")\n",
        "print(f\"F1 Score: {f1:.4f}\")"
      ],
      "metadata": {
        "colab": {
          "base_uri": "https://localhost:8080/"
        },
        "id": "CG2IxxSBW_rr",
        "outputId": "44524f1b-09b9-442a-b9ba-92204c25612a"
      },
      "execution_count": 25,
      "outputs": [
        {
          "output_type": "stream",
          "name": "stdout",
          "text": [
            "Accuracy: 80.0000%\n",
            "Precision: 0.8333\n",
            "Recall: 0.8000\n",
            "F1 Score: 0.8085\n"
          ]
        }
      ]
    },
    {
      "cell_type": "code",
      "source": [
        "# Calculate and print the confusion matrix\n",
        "cm = confusion_matrix(y_test, y_pred)"
      ],
      "metadata": {
        "id": "IKwN-tHJXrQP"
      },
      "execution_count": 13,
      "outputs": []
    },
    {
      "cell_type": "code",
      "source": [
        "# Plot confusion matrix using seaborn heatmap\n",
        "plt.figure(figsize=(8, 6))\n",
        "sns.heatmap(cm, annot=True, fmt='g', cmap='Blues', xticklabels=[\"Class 0\", \"Class 1\", \"Class 2\"], yticklabels=[\"Class 0\", \"Class 1\", \"Class 2\"])\n",
        "plt.title(\"Confusion Matrix\")\n",
        "plt.xlabel(\"Predicted Labels\")\n",
        "plt.ylabel(\"True Labels\")\n",
        "plt.show()"
      ],
      "metadata": {
        "colab": {
          "base_uri": "https://localhost:8080/",
          "height": 564
        },
        "id": "GDZ_KO_VXt2P",
        "outputId": "1a04f0ac-d00c-42f8-e971-5e64673d6cef"
      },
      "execution_count": 14,
      "outputs": [
        {
          "output_type": "display_data",
          "data": {
            "text/plain": [
              "<Figure size 800x600 with 2 Axes>"
            ],
            "image/png": "[encoded data removed]"
          },
          "metadata": {}
        }
      ]
    },
    {
      "cell_type": "markdown",
      "source": [
        "---------------------------- Prepare receive input ----------------------------"
      ],
      "metadata": {
        "id": "FspV2abCGam-"
      }
    },
    {
      "cell_type": "code",
      "source": [
        "def calculate_credits(course_comp_input, course_elec_input):\n",
        "    # Split the input strings into lists of course codes\n",
        "    comp_courses = course_comp_input.replace(\" \", \"\").split(\",\")\n",
        "    elec_courses = course_elec_input.replace(\" \", \"\").split(\",\")\n",
        "\n",
        "    # Combine compulsory and elective courses\n",
        "    courses = comp_courses + elec_courses\n",
        "\n",
        "    # Valid categories, levels, and course codes\n",
        "    valid_categories = {'X', 'Y', 'Z', 'M', 'J', 'W'}\n",
        "    valid_levels = {'3', '4', '5', '6', '7'}\n",
        "    valid_course_codes = {'X3C', 'X3E', 'X4C', 'X4E', 'X5C', 'X5E', 'X6C', 'X7C', 'X7E', 'Y4C', 'Y7C', 'Z3C',\n",
        "                          'Z4C', 'Z5C', 'J3E', 'J4E', 'J5C', 'J5E', 'M3C', 'M4C', 'M5C', 'M6C', 'W4C', 'W5C'}\n",
        "\n",
        "    # Dictionary to store the calculated credits by category and level\n",
        "    credits_by_category_level = {code: 0 for code in valid_course_codes}\n",
        "\n",
        "    # List to store invalid course codes\n",
        "    invalid_codes = []\n",
        "\n",
        "    # Iterate through each course\n",
        "    for course in courses:\n",
        "        # Validate the course code\n",
        "        if len(course) != 7 or course[2] not in valid_categories or course[3] not in valid_levels or not course[4].isdigit():\n",
        "            invalid_codes.append(course)\n",
        "            continue\n",
        "\n",
        "        # Extract the category, level, and credit from the course code\n",
        "        category = course[2]  # 3rd letter (category)\n",
        "        level = course[3]     # 4th digit (level)\n",
        "        credit = int(course[4])  # 5th digit (credit)\n",
        "\n",
        "        # Create a key in the format 'CategoryLevelC'\n",
        "        key = f\"{category}{level}C\" or f\"{category}{level}E\"\n",
        "\n",
        "        # Add the credit to the respective category and level\n",
        "        if key in valid_course_codes:\n",
        "            if key in credits_by_category_level:\n",
        "                credits_by_category_level[key] += credit\n",
        "            else:\n",
        "                credits_by_category_level[key] = credit\n",
        "        else:\n",
        "            invalid_codes.append(course)\n",
        "\n",
        "    total_credits = sum(credits_by_category_level.values())\n",
        "\n",
        "    # Return the total credits and the credits by category-level dictionary as a feature set\n",
        "    return {\"Total_credit\": total_credits, **credits_by_category_level}, invalid_codes\n",
        "\n",
        "\n",
        "    # Print the results\n",
        "    for key, total_credit in credits_by_category_level.items():\n",
        "        print(f\"{key} = {total_credit} credits\")\n",
        "\n",
        "    # Display invalid course codes, if any\n",
        "    if invalid_codes:\n",
        "        for code in invalid_codes:\n",
        "          output_array.append(f\"There is no '{code}' course code in your degree.\")\n",
        "           # print(f\"There is no '{code}' course code in your degree.\")\n",
        "\n",
        "\n",
        "    total_credits = sum(credits_by_category_level.values())\n",
        "    output_array.append(f\"Total_credits = {total_credits} credits\")\n",
        "    #print(f\"Total_credits = {total_credits} credits\")\n",
        "\n",
        "# Get course codes input from the user\n",
        "course_comp_input = input(\"Enter Compulsory course codes (Ex:EEX7436, MHZ5554, ....): \")\n",
        "course_elec_input = input(\"Enter Elective course codes (Ex:EEX7244, EEX7241, ....): \")\n",
        "\n",
        "# Call the function to calculate credits\n",
        "#credits_output = calculate_credits(course_comp_input, course_elec_input)\n",
        "\n",
        "credit_features, invalid_codes = calculate_credits(course_comp_input, course_elec_input)\n",
        "print(\"Credit Features:\", credit_features)"
      ],
      "metadata": {
        "colab": {
          "base_uri": "https://localhost:8080/"
        },
        "id": "nl4yoyivZKrb",
        "outputId": "e88d9545-3e2a-4340-d129-b5b3b0774a12"
      },
      "execution_count": null,
      "outputs": [
        {
          "output_type": "stream",
          "name": "stdout",
          "text": [
            "Enter Compulsory course codes (Ex:EEX7436, MHZ5554, ....): ghn\n",
            "Enter Elective course codes (Ex:EEX7244, EEX7241, ....): mkhn\n",
            "Credit Features: {'Total_credit': 0, 'J3E': 0, 'X5C': 0, 'Z3C': 0, 'Y7C': 0, 'J5C': 0, 'W5C': 0, 'Z4C': 0, 'M6C': 0, 'X4C': 0, 'X3E': 0, 'X7C': 0, 'M4C': 0, 'J5E': 0, 'M5C': 0, 'Y4C': 0, 'X5E': 0, 'M3C': 0, 'J4E': 0, 'W4C': 0, 'Z5C': 0, 'X6C': 0, 'X4E': 0, 'X7E': 0, 'X3C': 0}\n"
          ]
        }
      ]
    },
    {
      "cell_type": "code",
      "source": [
        "desired_order = [\n",
        "    'Total_credit', 'X3C', 'X3E', 'X4C', 'X4E', 'X5C', 'X5E', 'X6C', 'X7C', 'X7E', 'Y4C', 'Y7C',\n",
        "    'Z3C', 'Z4C', 'Z5C', 'J3E', 'J4E', 'J5C', 'J5E', 'M3C', 'M4C', 'M5C', 'M6C', 'W4C', 'W5C'\n",
        "]\n",
        "\n",
        "# Reordering the dictionary\n",
        "ordered_credit_features = {key: credit_features.get(key, 0) for key in desired_order}\n",
        "\n",
        "# Print the ordered output\n",
        "print(ordered_credit_features)"
      ],
      "metadata": {
        "colab": {
          "base_uri": "https://localhost:8080/"
        },
        "id": "bDX_zSaniuI3",
        "outputId": "13c54788-8b9e-443a-86ad-25aaaa42f816"
      },
      "execution_count": null,
      "outputs": [
        {
          "output_type": "stream",
          "name": "stdout",
          "text": [
            "{'Total_credit': 0, 'X3C': 0, 'X3E': 0, 'X4C': 0, 'X4E': 0, 'X5C': 0, 'X5E': 0, 'X6C': 0, 'X7C': 0, 'X7E': 0, 'Y4C': 0, 'Y7C': 0, 'Z3C': 0, 'Z4C': 0, 'Z5C': 0, 'J3E': 0, 'J4E': 0, 'J5C': 0, 'J5E': 0, 'M3C': 0, 'M4C': 0, 'M5C': 0, 'M6C': 0, 'W4C': 0, 'W5C': 0}\n"
          ]
        }
      ]
    },
    {
      "cell_type": "markdown",
      "source": [
        "--------------------------- Test the code by using our inputs ---------------------------"
      ],
      "metadata": {
        "id": "QSFghHebkvRE"
      }
    },
    {
      "cell_type": "code",
      "source": [
        "# Assuming these are the features your model expects\n",
        "input_features = pd.DataFrame([ordered_credit_features])\n",
        "\n",
        "print(input_features)\n",
        "\n",
        "# Predict the class (academic level) based on the credit features\n",
        "predicted_class = model.predict(input_features)\n",
        "\n",
        "# Convert numerical prediction back to class label if necessary\n",
        "class_mapping = {0: 'level 3', 1: 'level 4', 2: 'level 5', 3: 'level 6', 4: 'level 7'}\n",
        "predicted_lable = class_mapping[predicted_class[0]]\n",
        "\n",
        "# Print the predicted academic level\n",
        "print(f\"Predicted Academic Level: {predicted_lable}\")"
      ],
      "metadata": {
        "colab": {
          "base_uri": "https://localhost:8080/"
        },
        "id": "tlrVupaHb55Y",
        "outputId": "657fa723-ae31-42ad-fd6e-62983547377d"
      },
      "execution_count": null,
      "outputs": [
        {
          "output_type": "stream",
          "name": "stdout",
          "text": [
            "   Total_credit  X3C  X3E  X4C  X4E  X5C  X5E  X6C  X7C  X7E  ...  J3E  J4E  \\\n",
            "0             0    0    0    0    0    0    0    0    0    0  ...    0    0   \n",
            "\n",
            "   J5C  J5E  M3C  M4C  M5C  M6C  W4C  W5C  \n",
            "0    0    0    0    0    0    0    0    0  \n",
            "\n",
            "[1 rows x 25 columns]\n",
            "Predicted Academic Level: level 3\n"
          ]
        }
      ]
    }
  ]
}