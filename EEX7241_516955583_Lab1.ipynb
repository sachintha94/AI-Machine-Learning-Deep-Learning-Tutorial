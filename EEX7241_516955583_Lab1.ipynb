{
  "nbformat": 4,
  "nbformat_minor": 0,
  "metadata": {
    "colab": {
      "provenance": []
    },
    "kernelspec": {
      "name": "python3",
      "display_name": "Python 3"
    },
    "language_info": {
      "name": "python"
    }
  },
  "cells": [
    {
      "cell_type": "code",
      "execution_count": 103,
      "metadata": {
        "id": "YRPNuJKOBZcF"
      },
      "outputs": [],
      "source": [
        "#import Packages for our model\n",
        "import tensorflow as tf"
      ]
    },
    {
      "cell_type": "code",
      "source": [
        "import numpy as np\n",
        "import pandas as pd\n",
        "#import seaborn as sns\n",
        "import matplotlib.pyplot as plt\n",
        "%matplotlib inline"
      ],
      "metadata": {
        "id": "qFEAMfyqBkzB"
      },
      "execution_count": 104,
      "outputs": []
    },
    {
      "cell_type": "code",
      "source": [
        "from tensorflow.keras import layers, datasets, models\n",
        "from tensorflow.keras.utils import to_categorical"
      ],
      "metadata": {
        "id": "IscNmMV2BoNB"
      },
      "execution_count": 105,
      "outputs": []
    },
    {
      "cell_type": "code",
      "source": [
        "#importing dataset\n",
        "data=pd.read_csv('/content/penguins.csv')"
      ],
      "metadata": {
        "id": "XP0cDSt3BpHq"
      },
      "execution_count": 111,
      "outputs": []
    },
    {
      "cell_type": "code",
      "source": [
        "data"
      ],
      "metadata": {
        "colab": {
          "base_uri": "https://localhost:8080/",
          "height": 423
        },
        "id": "LVSFm4PRB-Gz",
        "outputId": "8a53f251-8482-4908-f959-007c67f2d02a"
      },
      "execution_count": 112,
      "outputs": [
        {
          "output_type": "execute_result",
          "data": {
            "text/plain": [
              "     bill_length_mm  bill_depth_mm  flipper_length_mm  body_mass_g     sex  \\\n",
              "0              39.1           18.7              181.0       3750.0    male   \n",
              "1              39.5           17.4              186.0       3800.0  female   \n",
              "2              40.3           18.0              195.0       3250.0  female   \n",
              "3               NaN            NaN                NaN          NaN     NaN   \n",
              "4              36.7           19.3              193.0       3450.0  female   \n",
              "..              ...            ...                ...          ...     ...   \n",
              "339            55.8           19.8              207.0       4000.0    male   \n",
              "340            43.5           18.1              202.0       3400.0  female   \n",
              "341            49.6           18.2              193.0       3775.0    male   \n",
              "342            50.8           19.0              210.0       4100.0    male   \n",
              "343            50.2           18.7              198.0       3775.0  female   \n",
              "\n",
              "       species     island  \n",
              "0       Adelie  Torgersen  \n",
              "1       Adelie  Torgersen  \n",
              "2       Adelie  Torgersen  \n",
              "3       Adelie  Torgersen  \n",
              "4       Adelie  Torgersen  \n",
              "..         ...        ...  \n",
              "339  Chinstrap      Dream  \n",
              "340  Chinstrap      Dream  \n",
              "341  Chinstrap      Dream  \n",
              "342  Chinstrap      Dream  \n",
              "343  Chinstrap      Dream  \n",
              "\n",
              "[344 rows x 7 columns]"
            ],
            "text/html": [
              "\n",
              "  <div id=\"df-8b084e6d-a19d-45d1-859e-a9008b8c8640\">\n",
              "    <div class=\"colab-df-container\">\n",
              "      <div>\n",
              "<style scoped>\n",
              "    .dataframe tbody tr th:only-of-type {\n",
              "        vertical-align: middle;\n",
              "    }\n",
              "\n",
              "    .dataframe tbody tr th {\n",
              "        vertical-align: top;\n",
              "    }\n",
              "\n",
              "    .dataframe thead th {\n",
              "        text-align: right;\n",
              "    }\n",
              "</style>\n",
              "<table border=\"1\" class=\"dataframe\">\n",
              "  <thead>\n",
              "    <tr style=\"text-align: right;\">\n",
              "      <th></th>\n",
              "      <th>bill_length_mm</th>\n",
              "      <th>bill_depth_mm</th>\n",
              "      <th>flipper_length_mm</th>\n",
              "      <th>body_mass_g</th>\n",
              "      <th>sex</th>\n",
              "      <th>species</th>\n",
              "      <th>island</th>\n",
              "    </tr>\n",
              "  </thead>\n",
              "  <tbody>\n",
              "    <tr>\n",
              "      <th>0</th>\n",
              "      <td>39.1</td>\n",
              "      <td>18.7</td>\n",
              "      <td>181.0</td>\n",
              "      <td>3750.0</td>\n",
              "      <td>male</td>\n",
              "      <td>Adelie</td>\n",
              "      <td>Torgersen</td>\n",
              "    </tr>\n",
              "    <tr>\n",
              "      <th>1</th>\n",
              "      <td>39.5</td>\n",
              "      <td>17.4</td>\n",
              "      <td>186.0</td>\n",
              "      <td>3800.0</td>\n",
              "      <td>female</td>\n",
              "      <td>Adelie</td>\n",
              "      <td>Torgersen</td>\n",
              "    </tr>\n",
              "    <tr>\n",
              "      <th>2</th>\n",
              "      <td>40.3</td>\n",
              "      <td>18.0</td>\n",
              "      <td>195.0</td>\n",
              "      <td>3250.0</td>\n",
              "      <td>female</td>\n",
              "      <td>Adelie</td>\n",
              "      <td>Torgersen</td>\n",
              "    </tr>\n",
              "    <tr>\n",
              "      <th>3</th>\n",
              "      <td>NaN</td>\n",
              "      <td>NaN</td>\n",
              "      <td>NaN</td>\n",
              "      <td>NaN</td>\n",
              "      <td>NaN</td>\n",
              "      <td>Adelie</td>\n",
              "      <td>Torgersen</td>\n",
              "    </tr>\n",
              "    <tr>\n",
              "      <th>4</th>\n",
              "      <td>36.7</td>\n",
              "      <td>19.3</td>\n",
              "      <td>193.0</td>\n",
              "      <td>3450.0</td>\n",
              "      <td>female</td>\n",
              "      <td>Adelie</td>\n",
              "      <td>Torgersen</td>\n",
              "    </tr>\n",
              "    <tr>\n",
              "      <th>...</th>\n",
              "      <td>...</td>\n",
              "      <td>...</td>\n",
              "      <td>...</td>\n",
              "      <td>...</td>\n",
              "      <td>...</td>\n",
              "      <td>...</td>\n",
              "      <td>...</td>\n",
              "    </tr>\n",
              "    <tr>\n",
              "      <th>339</th>\n",
              "      <td>55.8</td>\n",
              "      <td>19.8</td>\n",
              "      <td>207.0</td>\n",
              "      <td>4000.0</td>\n",
              "      <td>male</td>\n",
              "      <td>Chinstrap</td>\n",
              "      <td>Dream</td>\n",
              "    </tr>\n",
              "    <tr>\n",
              "      <th>340</th>\n",
              "      <td>43.5</td>\n",
              "      <td>18.1</td>\n",
              "      <td>202.0</td>\n",
              "      <td>3400.0</td>\n",
              "      <td>female</td>\n",
              "      <td>Chinstrap</td>\n",
              "      <td>Dream</td>\n",
              "    </tr>\n",
              "    <tr>\n",
              "      <th>341</th>\n",
              "      <td>49.6</td>\n",
              "      <td>18.2</td>\n",
              "      <td>193.0</td>\n",
              "      <td>3775.0</td>\n",
              "      <td>male</td>\n",
              "      <td>Chinstrap</td>\n",
              "      <td>Dream</td>\n",
              "    </tr>\n",
              "    <tr>\n",
              "      <th>342</th>\n",
              "      <td>50.8</td>\n",
              "      <td>19.0</td>\n",
              "      <td>210.0</td>\n",
              "      <td>4100.0</td>\n",
              "      <td>male</td>\n",
              "      <td>Chinstrap</td>\n",
              "      <td>Dream</td>\n",
              "    </tr>\n",
              "    <tr>\n",
              "      <th>343</th>\n",
              "      <td>50.2</td>\n",
              "      <td>18.7</td>\n",
              "      <td>198.0</td>\n",
              "      <td>3775.0</td>\n",
              "      <td>female</td>\n",
              "      <td>Chinstrap</td>\n",
              "      <td>Dream</td>\n",
              "    </tr>\n",
              "  </tbody>\n",
              "</table>\n",
              "<p>344 rows × 7 columns</p>\n",
              "</div>\n",
              "      <button class=\"colab-df-convert\" onclick=\"convertToInteractive('df-8b084e6d-a19d-45d1-859e-a9008b8c8640')\"\n",
              "              title=\"Convert this dataframe to an interactive table.\"\n",
              "              style=\"display:none;\">\n",
              "        \n",
              "  <svg xmlns=\"http://www.w3.org/2000/svg\" height=\"24px\"viewBox=\"0 0 24 24\"\n",
              "       width=\"24px\">\n",
              "    <path d=\"M0 0h24v24H0V0z\" fill=\"none\"/>\n",
              "    <path d=\"M18.56 5.44l.94 2.06.94-2.06 2.06-.94-2.06-.94-.94-2.06-.94 2.06-2.06.94zm-11 1L8.5 8.5l.94-2.06 2.06-.94-2.06-.94L8.5 2.5l-.94 2.06-2.06.94zm10 10l.94 2.06.94-2.06 2.06-.94-2.06-.94-.94-2.06-.94 2.06-2.06.94z\"/><path d=\"M17.41 7.96l-1.37-1.37c-.4-.4-.92-.59-1.43-.59-.52 0-1.04.2-1.43.59L10.3 9.45l-7.72 7.72c-.78.78-.78 2.05 0 2.83L4 21.41c.39.39.9.59 1.41.59.51 0 1.02-.2 1.41-.59l7.78-7.78 2.81-2.81c.8-.78.8-2.07 0-2.86zM5.41 20L4 18.59l7.72-7.72 1.47 1.35L5.41 20z\"/>\n",
              "  </svg>\n",
              "      </button>\n",
              "      \n",
              "  <style>\n",
              "    .colab-df-container {\n",
              "      display:flex;\n",
              "      flex-wrap:wrap;\n",
              "      gap: 12px;\n",
              "    }\n",
              "\n",
              "    .colab-df-convert {\n",
              "      background-color: #E8F0FE;\n",
              "      border: none;\n",
              "      border-radius: 50%;\n",
              "      cursor: pointer;\n",
              "      display: none;\n",
              "      fill: #1967D2;\n",
              "      height: 32px;\n",
              "      padding: 0 0 0 0;\n",
              "      width: 32px;\n",
              "    }\n",
              "\n",
              "    .colab-df-convert:hover {\n",
              "      background-color: #E2EBFA;\n",
              "      box-shadow: 0px 1px 2px rgba(60, 64, 67, 0.3), 0px 1px 3px 1px rgba(60, 64, 67, 0.15);\n",
              "      fill: #174EA6;\n",
              "    }\n",
              "\n",
              "    [theme=dark] .colab-df-convert {\n",
              "      background-color: #3B4455;\n",
              "      fill: #D2E3FC;\n",
              "    }\n",
              "\n",
              "    [theme=dark] .colab-df-convert:hover {\n",
              "      background-color: #434B5C;\n",
              "      box-shadow: 0px 1px 3px 1px rgba(0, 0, 0, 0.15);\n",
              "      filter: drop-shadow(0px 1px 2px rgba(0, 0, 0, 0.3));\n",
              "      fill: #FFFFFF;\n",
              "    }\n",
              "  </style>\n",
              "\n",
              "      <script>\n",
              "        const buttonEl =\n",
              "          document.querySelector('#df-8b084e6d-a19d-45d1-859e-a9008b8c8640 button.colab-df-convert');\n",
              "        buttonEl.style.display =\n",
              "          google.colab.kernel.accessAllowed ? 'block' : 'none';\n",
              "\n",
              "        async function convertToInteractive(key) {\n",
              "          const element = document.querySelector('#df-8b084e6d-a19d-45d1-859e-a9008b8c8640');\n",
              "          const dataTable =\n",
              "            await google.colab.kernel.invokeFunction('convertToInteractive',\n",
              "                                                     [key], {});\n",
              "          if (!dataTable) return;\n",
              "\n",
              "          const docLinkHtml = 'Like what you see? Visit the ' +\n",
              "            '<a target=\"_blank\" href=https://colab.research.google.com/notebooks/data_table.ipynb>data table notebook</a>'\n",
              "            + ' to learn more about interactive tables.';\n",
              "          element.innerHTML = '';\n",
              "          dataTable['output_type'] = 'display_data';\n",
              "          await google.colab.output.renderOutput(dataTable, element);\n",
              "          const docLink = document.createElement('div');\n",
              "          docLink.innerHTML = docLinkHtml;\n",
              "          element.appendChild(docLink);\n",
              "        }\n",
              "      </script>\n",
              "    </div>\n",
              "  </div>\n",
              "  "
            ]
          },
          "metadata": {},
          "execution_count": 112
        }
      ]
    },
    {
      "cell_type": "code",
      "source": [
        "# Drop rows with missing values\n",
        "data.dropna(inplace=True)"
      ],
      "metadata": {
        "id": "nBoNIYCPCBMv"
      },
      "execution_count": 113,
      "outputs": []
    },
    {
      "cell_type": "code",
      "source": [
        "# Fill missing values with the mean\n",
        "data.fillna(data.mean(), inplace=True)"
      ],
      "metadata": {
        "colab": {
          "base_uri": "https://localhost:8080/"
        },
        "id": "vp98lWcPCEXM",
        "outputId": "c5074f0d-0b9b-42de-bfef-eacc29694e0c"
      },
      "execution_count": 114,
      "outputs": [
        {
          "output_type": "stream",
          "name": "stderr",
          "text": [
            "<ipython-input-114-d9766fc39081>:2: FutureWarning: The default value of numeric_only in DataFrame.mean is deprecated. In a future version, it will default to False. In addition, specifying 'numeric_only=None' is deprecated. Select only valid columns or specify the value of numeric_only to silence this warning.\n",
            "  data.fillna(data.mean(), inplace=True)\n"
          ]
        }
      ]
    },
    {
      "cell_type": "code",
      "source": [
        "data"
      ],
      "metadata": {
        "colab": {
          "base_uri": "https://localhost:8080/",
          "height": 423
        },
        "id": "rGBQfxV2CHpA",
        "outputId": "35dd8e80-db24-4a60-c565-06f0dcdb8b6a"
      },
      "execution_count": 115,
      "outputs": [
        {
          "output_type": "execute_result",
          "data": {
            "text/plain": [
              "     bill_length_mm  bill_depth_mm  flipper_length_mm  body_mass_g     sex  \\\n",
              "0              39.1           18.7              181.0       3750.0    male   \n",
              "1              39.5           17.4              186.0       3800.0  female   \n",
              "2              40.3           18.0              195.0       3250.0  female   \n",
              "4              36.7           19.3              193.0       3450.0  female   \n",
              "5              39.3           20.6              190.0       3650.0    male   \n",
              "..              ...            ...                ...          ...     ...   \n",
              "339            55.8           19.8              207.0       4000.0    male   \n",
              "340            43.5           18.1              202.0       3400.0  female   \n",
              "341            49.6           18.2              193.0       3775.0    male   \n",
              "342            50.8           19.0              210.0       4100.0    male   \n",
              "343            50.2           18.7              198.0       3775.0  female   \n",
              "\n",
              "       species     island  \n",
              "0       Adelie  Torgersen  \n",
              "1       Adelie  Torgersen  \n",
              "2       Adelie  Torgersen  \n",
              "4       Adelie  Torgersen  \n",
              "5       Adelie  Torgersen  \n",
              "..         ...        ...  \n",
              "339  Chinstrap      Dream  \n",
              "340  Chinstrap      Dream  \n",
              "341  Chinstrap      Dream  \n",
              "342  Chinstrap      Dream  \n",
              "343  Chinstrap      Dream  \n",
              "\n",
              "[333 rows x 7 columns]"
            ],
            "text/html": [
              "\n",
              "  <div id=\"df-4152d80e-4159-42fd-b327-c6924d8ad335\">\n",
              "    <div class=\"colab-df-container\">\n",
              "      <div>\n",
              "<style scoped>\n",
              "    .dataframe tbody tr th:only-of-type {\n",
              "        vertical-align: middle;\n",
              "    }\n",
              "\n",
              "    .dataframe tbody tr th {\n",
              "        vertical-align: top;\n",
              "    }\n",
              "\n",
              "    .dataframe thead th {\n",
              "        text-align: right;\n",
              "    }\n",
              "</style>\n",
              "<table border=\"1\" class=\"dataframe\">\n",
              "  <thead>\n",
              "    <tr style=\"text-align: right;\">\n",
              "      <th></th>\n",
              "      <th>bill_length_mm</th>\n",
              "      <th>bill_depth_mm</th>\n",
              "      <th>flipper_length_mm</th>\n",
              "      <th>body_mass_g</th>\n",
              "      <th>sex</th>\n",
              "      <th>species</th>\n",
              "      <th>island</th>\n",
              "    </tr>\n",
              "  </thead>\n",
              "  <tbody>\n",
              "    <tr>\n",
              "      <th>0</th>\n",
              "      <td>39.1</td>\n",
              "      <td>18.7</td>\n",
              "      <td>181.0</td>\n",
              "      <td>3750.0</td>\n",
              "      <td>male</td>\n",
              "      <td>Adelie</td>\n",
              "      <td>Torgersen</td>\n",
              "    </tr>\n",
              "    <tr>\n",
              "      <th>1</th>\n",
              "      <td>39.5</td>\n",
              "      <td>17.4</td>\n",
              "      <td>186.0</td>\n",
              "      <td>3800.0</td>\n",
              "      <td>female</td>\n",
              "      <td>Adelie</td>\n",
              "      <td>Torgersen</td>\n",
              "    </tr>\n",
              "    <tr>\n",
              "      <th>2</th>\n",
              "      <td>40.3</td>\n",
              "      <td>18.0</td>\n",
              "      <td>195.0</td>\n",
              "      <td>3250.0</td>\n",
              "      <td>female</td>\n",
              "      <td>Adelie</td>\n",
              "      <td>Torgersen</td>\n",
              "    </tr>\n",
              "    <tr>\n",
              "      <th>4</th>\n",
              "      <td>36.7</td>\n",
              "      <td>19.3</td>\n",
              "      <td>193.0</td>\n",
              "      <td>3450.0</td>\n",
              "      <td>female</td>\n",
              "      <td>Adelie</td>\n",
              "      <td>Torgersen</td>\n",
              "    </tr>\n",
              "    <tr>\n",
              "      <th>5</th>\n",
              "      <td>39.3</td>\n",
              "      <td>20.6</td>\n",
              "      <td>190.0</td>\n",
              "      <td>3650.0</td>\n",
              "      <td>male</td>\n",
              "      <td>Adelie</td>\n",
              "      <td>Torgersen</td>\n",
              "    </tr>\n",
              "    <tr>\n",
              "      <th>...</th>\n",
              "      <td>...</td>\n",
              "      <td>...</td>\n",
              "      <td>...</td>\n",
              "      <td>...</td>\n",
              "      <td>...</td>\n",
              "      <td>...</td>\n",
              "      <td>...</td>\n",
              "    </tr>\n",
              "    <tr>\n",
              "      <th>339</th>\n",
              "      <td>55.8</td>\n",
              "      <td>19.8</td>\n",
              "      <td>207.0</td>\n",
              "      <td>4000.0</td>\n",
              "      <td>male</td>\n",
              "      <td>Chinstrap</td>\n",
              "      <td>Dream</td>\n",
              "    </tr>\n",
              "    <tr>\n",
              "      <th>340</th>\n",
              "      <td>43.5</td>\n",
              "      <td>18.1</td>\n",
              "      <td>202.0</td>\n",
              "      <td>3400.0</td>\n",
              "      <td>female</td>\n",
              "      <td>Chinstrap</td>\n",
              "      <td>Dream</td>\n",
              "    </tr>\n",
              "    <tr>\n",
              "      <th>341</th>\n",
              "      <td>49.6</td>\n",
              "      <td>18.2</td>\n",
              "      <td>193.0</td>\n",
              "      <td>3775.0</td>\n",
              "      <td>male</td>\n",
              "      <td>Chinstrap</td>\n",
              "      <td>Dream</td>\n",
              "    </tr>\n",
              "    <tr>\n",
              "      <th>342</th>\n",
              "      <td>50.8</td>\n",
              "      <td>19.0</td>\n",
              "      <td>210.0</td>\n",
              "      <td>4100.0</td>\n",
              "      <td>male</td>\n",
              "      <td>Chinstrap</td>\n",
              "      <td>Dream</td>\n",
              "    </tr>\n",
              "    <tr>\n",
              "      <th>343</th>\n",
              "      <td>50.2</td>\n",
              "      <td>18.7</td>\n",
              "      <td>198.0</td>\n",
              "      <td>3775.0</td>\n",
              "      <td>female</td>\n",
              "      <td>Chinstrap</td>\n",
              "      <td>Dream</td>\n",
              "    </tr>\n",
              "  </tbody>\n",
              "</table>\n",
              "<p>333 rows × 7 columns</p>\n",
              "</div>\n",
              "      <button class=\"colab-df-convert\" onclick=\"convertToInteractive('df-4152d80e-4159-42fd-b327-c6924d8ad335')\"\n",
              "              title=\"Convert this dataframe to an interactive table.\"\n",
              "              style=\"display:none;\">\n",
              "        \n",
              "  <svg xmlns=\"http://www.w3.org/2000/svg\" height=\"24px\"viewBox=\"0 0 24 24\"\n",
              "       width=\"24px\">\n",
              "    <path d=\"M0 0h24v24H0V0z\" fill=\"none\"/>\n",
              "    <path d=\"M18.56 5.44l.94 2.06.94-2.06 2.06-.94-2.06-.94-.94-2.06-.94 2.06-2.06.94zm-11 1L8.5 8.5l.94-2.06 2.06-.94-2.06-.94L8.5 2.5l-.94 2.06-2.06.94zm10 10l.94 2.06.94-2.06 2.06-.94-2.06-.94-.94-2.06-.94 2.06-2.06.94z\"/><path d=\"M17.41 7.96l-1.37-1.37c-.4-.4-.92-.59-1.43-.59-.52 0-1.04.2-1.43.59L10.3 9.45l-7.72 7.72c-.78.78-.78 2.05 0 2.83L4 21.41c.39.39.9.59 1.41.59.51 0 1.02-.2 1.41-.59l7.78-7.78 2.81-2.81c.8-.78.8-2.07 0-2.86zM5.41 20L4 18.59l7.72-7.72 1.47 1.35L5.41 20z\"/>\n",
              "  </svg>\n",
              "      </button>\n",
              "      \n",
              "  <style>\n",
              "    .colab-df-container {\n",
              "      display:flex;\n",
              "      flex-wrap:wrap;\n",
              "      gap: 12px;\n",
              "    }\n",
              "\n",
              "    .colab-df-convert {\n",
              "      background-color: #E8F0FE;\n",
              "      border: none;\n",
              "      border-radius: 50%;\n",
              "      cursor: pointer;\n",
              "      display: none;\n",
              "      fill: #1967D2;\n",
              "      height: 32px;\n",
              "      padding: 0 0 0 0;\n",
              "      width: 32px;\n",
              "    }\n",
              "\n",
              "    .colab-df-convert:hover {\n",
              "      background-color: #E2EBFA;\n",
              "      box-shadow: 0px 1px 2px rgba(60, 64, 67, 0.3), 0px 1px 3px 1px rgba(60, 64, 67, 0.15);\n",
              "      fill: #174EA6;\n",
              "    }\n",
              "\n",
              "    [theme=dark] .colab-df-convert {\n",
              "      background-color: #3B4455;\n",
              "      fill: #D2E3FC;\n",
              "    }\n",
              "\n",
              "    [theme=dark] .colab-df-convert:hover {\n",
              "      background-color: #434B5C;\n",
              "      box-shadow: 0px 1px 3px 1px rgba(0, 0, 0, 0.15);\n",
              "      filter: drop-shadow(0px 1px 2px rgba(0, 0, 0, 0.3));\n",
              "      fill: #FFFFFF;\n",
              "    }\n",
              "  </style>\n",
              "\n",
              "      <script>\n",
              "        const buttonEl =\n",
              "          document.querySelector('#df-4152d80e-4159-42fd-b327-c6924d8ad335 button.colab-df-convert');\n",
              "        buttonEl.style.display =\n",
              "          google.colab.kernel.accessAllowed ? 'block' : 'none';\n",
              "\n",
              "        async function convertToInteractive(key) {\n",
              "          const element = document.querySelector('#df-4152d80e-4159-42fd-b327-c6924d8ad335');\n",
              "          const dataTable =\n",
              "            await google.colab.kernel.invokeFunction('convertToInteractive',\n",
              "                                                     [key], {});\n",
              "          if (!dataTable) return;\n",
              "\n",
              "          const docLinkHtml = 'Like what you see? Visit the ' +\n",
              "            '<a target=\"_blank\" href=https://colab.research.google.com/notebooks/data_table.ipynb>data table notebook</a>'\n",
              "            + ' to learn more about interactive tables.';\n",
              "          element.innerHTML = '';\n",
              "          dataTable['output_type'] = 'display_data';\n",
              "          await google.colab.output.renderOutput(dataTable, element);\n",
              "          const docLink = document.createElement('div');\n",
              "          docLink.innerHTML = docLinkHtml;\n",
              "          element.appendChild(docLink);\n",
              "        }\n",
              "      </script>\n",
              "    </div>\n",
              "  </div>\n",
              "  "
            ]
          },
          "metadata": {},
          "execution_count": 115
        }
      ]
    },
    {
      "cell_type": "code",
      "source": [
        "# Save the cleaned dataset\n",
        "data.to_csv('cleaned_penguins.csv', index=False)"
      ],
      "metadata": {
        "id": "fLmiR3nZCLC0"
      },
      "execution_count": 116,
      "outputs": []
    },
    {
      "cell_type": "code",
      "source": [
        "#Encode the species\n",
        "data['species'].replace(to_replace={\n",
        "    \"Adelie\":0,\n",
        "    \"Gentoo\":1,\n",
        "    \"Chinstrap\":2,\n",
        "}, inplace = True)"
      ],
      "metadata": {
        "id": "BCEJJc6VCNii"
      },
      "execution_count": 117,
      "outputs": []
    },
    {
      "cell_type": "code",
      "source": [
        "#Encode the islan\n",
        "data['island'].replace(to_replace={\n",
        "    \"Torgersen\":0,\n",
        "    \"Biscoe\":1,\n",
        "    \"Dream\":2,\n",
        "}, inplace = True)"
      ],
      "metadata": {
        "id": "DynqqqEmCTvf"
      },
      "execution_count": 118,
      "outputs": []
    },
    {
      "cell_type": "code",
      "source": [
        "#Encode the sex\n",
        "data['sex'].replace(to_replace={\n",
        "    \"female\":0,\n",
        "    \"male\":1,\n",
        "}, inplace = True)"
      ],
      "metadata": {
        "id": "5eWqG00BCV9t"
      },
      "execution_count": 119,
      "outputs": []
    },
    {
      "cell_type": "code",
      "source": [
        "#identify inputs and outputs\n",
        "x = data.iloc[:, 0:4].values\n",
        "y = data.iloc[:, 4:7].values"
      ],
      "metadata": {
        "id": "2b_zf-DVCfHH"
      },
      "execution_count": 120,
      "outputs": []
    },
    {
      "cell_type": "code",
      "source": [
        "print(x[0:5])"
      ],
      "metadata": {
        "colab": {
          "base_uri": "https://localhost:8080/"
        },
        "id": "j7TAbH2VCimf",
        "outputId": "4c37225a-d343-4674-952b-8b495fa82315"
      },
      "execution_count": 121,
      "outputs": [
        {
          "output_type": "stream",
          "name": "stdout",
          "text": [
            "[[  39.1   18.7  181.  3750. ]\n",
            " [  39.5   17.4  186.  3800. ]\n",
            " [  40.3   18.   195.  3250. ]\n",
            " [  36.7   19.3  193.  3450. ]\n",
            " [  39.3   20.6  190.  3650. ]]\n"
          ]
        }
      ]
    },
    {
      "cell_type": "code",
      "source": [
        "#Encoded y values\n",
        "print(y[0:5])"
      ],
      "metadata": {
        "colab": {
          "base_uri": "https://localhost:8080/"
        },
        "id": "05ayFX0SClhK",
        "outputId": "14601118-c699-4bba-8b8d-a5512f2deaa4"
      },
      "execution_count": 123,
      "outputs": [
        {
          "output_type": "stream",
          "name": "stdout",
          "text": [
            "[[1 0 0]\n",
            " [0 0 0]\n",
            " [0 0 0]\n",
            " [0 0 0]\n",
            " [1 0 0]]\n"
          ]
        }
      ]
    },
    {
      "cell_type": "code",
      "source": [
        "print(x.shape)\n",
        "print(y.shape)"
      ],
      "metadata": {
        "colab": {
          "base_uri": "https://localhost:8080/"
        },
        "id": "J5j8YQ6DCoqx",
        "outputId": "72b39ff7-577f-484c-b836-98aaa8e512c6"
      },
      "execution_count": 124,
      "outputs": [
        {
          "output_type": "stream",
          "name": "stdout",
          "text": [
            "(333, 4)\n",
            "(333, 3)\n"
          ]
        }
      ]
    },
    {
      "cell_type": "code",
      "source": [
        "from sklearn.model_selection import train_test_split\n",
        "x_train, x_test, y_train, y_test = train_test_split(x, y, test_size = 0.2, random_state=0)\n"
      ],
      "metadata": {
        "id": "sXRaiU4bCuFh"
      },
      "execution_count": 125,
      "outputs": []
    },
    {
      "cell_type": "code",
      "source": [
        "#create model\n",
        "model = tf.keras.Sequential ([\n",
        "    #layers 01\n",
        "    tf.keras.layers.Dense(10, activation ='relu'),\n",
        "    #layers 02\n",
        "    tf.keras.layers.Dense(10, activation ='relu'),\n",
        "    #layers 03\n",
        "    tf.keras.layers.Dense(3, activation ='softmax')\n",
        "    ])\n",
        "model"
      ],
      "metadata": {
        "colab": {
          "base_uri": "https://localhost:8080/"
        },
        "id": "I6tcSRJBC7m6",
        "outputId": "779613ee-eebb-4336-f0e4-d921ae1c1868"
      },
      "execution_count": 126,
      "outputs": [
        {
          "output_type": "execute_result",
          "data": {
            "text/plain": [
              "<keras.engine.sequential.Sequential at 0x7f305327eaa0>"
            ]
          },
          "metadata": {},
          "execution_count": 126
        }
      ]
    },
    {
      "cell_type": "code",
      "source": [
        "#compiling the model\n",
        "model.compile(optimizer= 'rmsprop',\n",
        "              loss='categorical_crossentropy',\n",
        "              metrics = ['accuracy'])"
      ],
      "metadata": {
        "id": "ZjasF7SVDJzK"
      },
      "execution_count": 127,
      "outputs": []
    },
    {
      "cell_type": "code",
      "source": [
        "#training the model\n",
        "model.fit(x_train, y_train, batch_size=10, epochs=100)"
      ],
      "metadata": {
        "colab": {
          "base_uri": "https://localhost:8080/"
        },
        "id": "R_JdqHjVDPsB",
        "outputId": "c03e6fba-eb26-46fc-d6ab-382885b9bb8a"
      },
      "execution_count": 128,
      "outputs": [
        {
          "output_type": "stream",
          "name": "stdout",
          "text": [
            "Epoch 1/100\n",
            "27/27 [==============================] - 1s 2ms/step - loss: 690.6606 - accuracy: 0.4098\n",
            "Epoch 2/100\n",
            "27/27 [==============================] - 0s 2ms/step - loss: 485.7840 - accuracy: 0.4098\n",
            "Epoch 3/100\n",
            "27/27 [==============================] - 0s 2ms/step - loss: 260.9843 - accuracy: 0.4286\n",
            "Epoch 4/100\n",
            "27/27 [==============================] - 0s 2ms/step - loss: 64.9486 - accuracy: 0.3872\n",
            "Epoch 5/100\n",
            "27/27 [==============================] - 0s 2ms/step - loss: 8.2504 - accuracy: 0.3647\n",
            "Epoch 6/100\n",
            "27/27 [==============================] - 0s 2ms/step - loss: 7.7777 - accuracy: 0.3534\n",
            "Epoch 7/100\n",
            "27/27 [==============================] - 0s 2ms/step - loss: 8.1096 - accuracy: 0.3684\n",
            "Epoch 8/100\n",
            "27/27 [==============================] - 0s 2ms/step - loss: 8.5813 - accuracy: 0.3571\n",
            "Epoch 9/100\n",
            "27/27 [==============================] - 0s 2ms/step - loss: 8.9498 - accuracy: 0.3647\n",
            "Epoch 10/100\n",
            "27/27 [==============================] - 0s 2ms/step - loss: 8.3307 - accuracy: 0.3496\n",
            "Epoch 11/100\n",
            "27/27 [==============================] - 0s 2ms/step - loss: 9.4409 - accuracy: 0.3421\n",
            "Epoch 12/100\n",
            "27/27 [==============================] - 0s 2ms/step - loss: 9.6285 - accuracy: 0.3383\n",
            "Epoch 13/100\n",
            "27/27 [==============================] - 0s 2ms/step - loss: 11.8283 - accuracy: 0.3496\n",
            "Epoch 14/100\n",
            "27/27 [==============================] - 0s 2ms/step - loss: 12.2672 - accuracy: 0.2669\n",
            "Epoch 15/100\n",
            "27/27 [==============================] - 0s 2ms/step - loss: 14.2109 - accuracy: 0.2669\n",
            "Epoch 16/100\n",
            "27/27 [==============================] - 0s 2ms/step - loss: 12.5743 - accuracy: 0.3271\n",
            "Epoch 17/100\n",
            "27/27 [==============================] - 0s 2ms/step - loss: 15.6736 - accuracy: 0.3271\n",
            "Epoch 18/100\n",
            "27/27 [==============================] - 0s 2ms/step - loss: 16.6585 - accuracy: 0.3083\n",
            "Epoch 19/100\n",
            "27/27 [==============================] - 0s 2ms/step - loss: 16.7016 - accuracy: 0.3045\n",
            "Epoch 20/100\n",
            "27/27 [==============================] - 0s 1ms/step - loss: 19.7055 - accuracy: 0.2556\n",
            "Epoch 21/100\n",
            "27/27 [==============================] - 0s 2ms/step - loss: 20.3371 - accuracy: 0.3158\n",
            "Epoch 22/100\n",
            "27/27 [==============================] - 0s 2ms/step - loss: 21.9475 - accuracy: 0.3195\n",
            "Epoch 23/100\n",
            "27/27 [==============================] - 0s 2ms/step - loss: 27.2599 - accuracy: 0.2632\n",
            "Epoch 24/100\n",
            "27/27 [==============================] - 0s 2ms/step - loss: 24.1866 - accuracy: 0.3233\n",
            "Epoch 25/100\n",
            "27/27 [==============================] - 0s 2ms/step - loss: 30.4865 - accuracy: 0.2744\n",
            "Epoch 26/100\n",
            "27/27 [==============================] - 0s 2ms/step - loss: 31.9344 - accuracy: 0.2970\n",
            "Epoch 27/100\n",
            "27/27 [==============================] - 0s 2ms/step - loss: 33.2716 - accuracy: 0.3083\n",
            "Epoch 28/100\n",
            "27/27 [==============================] - 0s 2ms/step - loss: 33.2947 - accuracy: 0.3233 \n",
            "Epoch 29/100\n",
            "27/27 [==============================] - 0s 2ms/step - loss: 35.5395 - accuracy: 0.2556\n",
            "Epoch 30/100\n",
            "27/27 [==============================] - 0s 2ms/step - loss: 36.0229 - accuracy: 0.3083\n",
            "Epoch 31/100\n",
            "27/27 [==============================] - 0s 2ms/step - loss: 39.4735 - accuracy: 0.3008\n",
            "Epoch 32/100\n",
            "27/27 [==============================] - 0s 2ms/step - loss: 43.2923 - accuracy: 0.3195\n",
            "Epoch 33/100\n",
            "27/27 [==============================] - 0s 2ms/step - loss: 42.6442 - accuracy: 0.2444\n",
            "Epoch 34/100\n",
            "27/27 [==============================] - 0s 2ms/step - loss: 47.8165 - accuracy: 0.2669\n",
            "Epoch 35/100\n",
            "27/27 [==============================] - 0s 2ms/step - loss: 57.4994 - accuracy: 0.2820\n",
            "Epoch 36/100\n",
            "27/27 [==============================] - 0s 2ms/step - loss: 56.7016 - accuracy: 0.2594\n",
            "Epoch 37/100\n",
            "27/27 [==============================] - 0s 2ms/step - loss: 57.1303 - accuracy: 0.3083\n",
            "Epoch 38/100\n",
            "27/27 [==============================] - 0s 2ms/step - loss: 62.4793 - accuracy: 0.2744\n",
            "Epoch 39/100\n",
            "27/27 [==============================] - 0s 2ms/step - loss: 57.6349 - accuracy: 0.2932\n",
            "Epoch 40/100\n",
            "27/27 [==============================] - 0s 3ms/step - loss: 65.6433 - accuracy: 0.2820\n",
            "Epoch 41/100\n",
            "27/27 [==============================] - 0s 2ms/step - loss: 73.6114 - accuracy: 0.3008\n",
            "Epoch 42/100\n",
            "27/27 [==============================] - 0s 3ms/step - loss: 76.3650 - accuracy: 0.2820\n",
            "Epoch 43/100\n",
            "27/27 [==============================] - 0s 3ms/step - loss: 70.7235 - accuracy: 0.2669\n",
            "Epoch 44/100\n",
            "27/27 [==============================] - 0s 3ms/step - loss: 89.9771 - accuracy: 0.2707\n",
            "Epoch 45/100\n",
            "27/27 [==============================] - 0s 3ms/step - loss: 81.1231 - accuracy: 0.2895\n",
            "Epoch 46/100\n",
            "27/27 [==============================] - 0s 3ms/step - loss: 97.6136 - accuracy: 0.2744\n",
            "Epoch 47/100\n",
            "27/27 [==============================] - 0s 3ms/step - loss: 92.4357 - accuracy: 0.2932\n",
            "Epoch 48/100\n",
            "27/27 [==============================] - 0s 2ms/step - loss: 95.4051 - accuracy: 0.3158\n",
            "Epoch 49/100\n",
            "27/27 [==============================] - 0s 2ms/step - loss: 95.8183 - accuracy: 0.3120\n",
            "Epoch 50/100\n",
            "27/27 [==============================] - 0s 2ms/step - loss: 113.1193 - accuracy: 0.2707\n",
            "Epoch 51/100\n",
            "27/27 [==============================] - 0s 2ms/step - loss: 102.7851 - accuracy: 0.2970\n",
            "Epoch 52/100\n",
            "27/27 [==============================] - 0s 3ms/step - loss: 104.7109 - accuracy: 0.2932\n",
            "Epoch 53/100\n",
            "27/27 [==============================] - 0s 2ms/step - loss: 121.5716 - accuracy: 0.2707\n",
            "Epoch 54/100\n",
            "27/27 [==============================] - 0s 2ms/step - loss: 114.6817 - accuracy: 0.3459\n",
            "Epoch 55/100\n",
            "27/27 [==============================] - 0s 2ms/step - loss: 109.3811 - accuracy: 0.3271\n",
            "Epoch 56/100\n",
            "27/27 [==============================] - 0s 3ms/step - loss: 131.1135 - accuracy: 0.2932\n",
            "Epoch 57/100\n",
            "27/27 [==============================] - 0s 2ms/step - loss: 136.7442 - accuracy: 0.2970\n",
            "Epoch 58/100\n",
            "27/27 [==============================] - 0s 3ms/step - loss: 139.5571 - accuracy: 0.2707\n",
            "Epoch 59/100\n",
            "27/27 [==============================] - 0s 3ms/step - loss: 125.1967 - accuracy: 0.3271\n",
            "Epoch 60/100\n",
            "27/27 [==============================] - 0s 2ms/step - loss: 135.4393 - accuracy: 0.3308\n",
            "Epoch 61/100\n",
            "27/27 [==============================] - 0s 2ms/step - loss: 156.9077 - accuracy: 0.2782\n",
            "Epoch 62/100\n",
            "27/27 [==============================] - 0s 2ms/step - loss: 155.4739 - accuracy: 0.3195\n",
            "Epoch 63/100\n",
            "27/27 [==============================] - 0s 2ms/step - loss: 146.6916 - accuracy: 0.3120\n",
            "Epoch 64/100\n",
            "27/27 [==============================] - 0s 3ms/step - loss: 158.5462 - accuracy: 0.3008\n",
            "Epoch 65/100\n",
            "27/27 [==============================] - 0s 2ms/step - loss: 175.2509 - accuracy: 0.2744\n",
            "Epoch 66/100\n",
            "27/27 [==============================] - 0s 3ms/step - loss: 177.8337 - accuracy: 0.2895\n",
            "Epoch 67/100\n",
            "27/27 [==============================] - 0s 2ms/step - loss: 180.2624 - accuracy: 0.2895\n",
            "Epoch 68/100\n",
            "27/27 [==============================] - 0s 2ms/step - loss: 214.6406 - accuracy: 0.3158\n",
            "Epoch 69/100\n",
            "27/27 [==============================] - 0s 2ms/step - loss: 207.2403 - accuracy: 0.2744\n",
            "Epoch 70/100\n",
            "27/27 [==============================] - 0s 2ms/step - loss: 180.5820 - accuracy: 0.3158\n",
            "Epoch 71/100\n",
            "27/27 [==============================] - 0s 2ms/step - loss: 209.5711 - accuracy: 0.2857\n",
            "Epoch 72/100\n",
            "27/27 [==============================] - 0s 3ms/step - loss: 210.6457 - accuracy: 0.2932\n",
            "Epoch 73/100\n",
            "27/27 [==============================] - 0s 3ms/step - loss: 225.9658 - accuracy: 0.2669\n",
            "Epoch 74/100\n",
            "27/27 [==============================] - 0s 3ms/step - loss: 216.9882 - accuracy: 0.2368\n",
            "Epoch 75/100\n",
            "27/27 [==============================] - 0s 2ms/step - loss: 273.8044 - accuracy: 0.2293\n",
            "Epoch 76/100\n",
            "27/27 [==============================] - 0s 2ms/step - loss: 229.6709 - accuracy: 0.3083\n",
            "Epoch 77/100\n",
            "27/27 [==============================] - 0s 2ms/step - loss: 243.8018 - accuracy: 0.2820\n",
            "Epoch 78/100\n",
            "27/27 [==============================] - 0s 2ms/step - loss: 246.4337 - accuracy: 0.2895\n",
            "Epoch 79/100\n",
            "27/27 [==============================] - 0s 2ms/step - loss: 233.7568 - accuracy: 0.3045\n",
            "Epoch 80/100\n",
            "27/27 [==============================] - 0s 3ms/step - loss: 261.0265 - accuracy: 0.2669\n",
            "Epoch 81/100\n",
            "27/27 [==============================] - 0s 2ms/step - loss: 264.8879 - accuracy: 0.2895\n",
            "Epoch 82/100\n",
            "27/27 [==============================] - 0s 2ms/step - loss: 225.6123 - accuracy: 0.3271\n",
            "Epoch 83/100\n",
            "27/27 [==============================] - 0s 2ms/step - loss: 293.8444 - accuracy: 0.3120\n",
            "Epoch 84/100\n",
            "27/27 [==============================] - 0s 2ms/step - loss: 257.0298 - accuracy: 0.2669\n",
            "Epoch 85/100\n",
            "27/27 [==============================] - 0s 2ms/step - loss: 304.7645 - accuracy: 0.2782\n",
            "Epoch 86/100\n",
            "27/27 [==============================] - 0s 2ms/step - loss: 292.7014 - accuracy: 0.2857\n",
            "Epoch 87/100\n",
            "27/27 [==============================] - 0s 2ms/step - loss: 318.8046 - accuracy: 0.2669\n",
            "Epoch 88/100\n",
            "27/27 [==============================] - 0s 2ms/step - loss: 329.0879 - accuracy: 0.3195\n",
            "Epoch 89/100\n",
            "27/27 [==============================] - 0s 2ms/step - loss: 328.5618 - accuracy: 0.2707\n",
            "Epoch 90/100\n",
            "27/27 [==============================] - 0s 2ms/step - loss: 315.1542 - accuracy: 0.2782\n",
            "Epoch 91/100\n",
            "27/27 [==============================] - 0s 2ms/step - loss: 341.8588 - accuracy: 0.2368\n",
            "Epoch 92/100\n",
            "27/27 [==============================] - 0s 2ms/step - loss: 335.0121 - accuracy: 0.2744\n",
            "Epoch 93/100\n",
            "27/27 [==============================] - 0s 2ms/step - loss: 307.8183 - accuracy: 0.2556\n",
            "Epoch 94/100\n",
            "27/27 [==============================] - 0s 2ms/step - loss: 380.1912 - accuracy: 0.2932\n",
            "Epoch 95/100\n",
            "27/27 [==============================] - 0s 2ms/step - loss: 360.1223 - accuracy: 0.3158\n",
            "Epoch 96/100\n",
            "27/27 [==============================] - 0s 2ms/step - loss: 371.4027 - accuracy: 0.2895\n",
            "Epoch 97/100\n",
            "27/27 [==============================] - 0s 2ms/step - loss: 378.7351 - accuracy: 0.3120\n",
            "Epoch 98/100\n",
            "27/27 [==============================] - 0s 2ms/step - loss: 337.1416 - accuracy: 0.3083\n",
            "Epoch 99/100\n",
            "27/27 [==============================] - 0s 2ms/step - loss: 372.5775 - accuracy: 0.2632\n",
            "Epoch 100/100\n",
            "27/27 [==============================] - 0s 2ms/step - loss: 409.1158 - accuracy: 0.2782\n"
          ]
        },
        {
          "output_type": "execute_result",
          "data": {
            "text/plain": [
              "<keras.callbacks.History at 0x7f305327c550>"
            ]
          },
          "metadata": {},
          "execution_count": 128
        }
      ]
    },
    {
      "cell_type": "code",
      "source": [
        "loss, accuracy = model.evaluate(x_test, y_test, verbose=0)\n",
        "print('Test Accuracy:', accuracy )\n",
        "print('Test Loss:', loss)"
      ],
      "metadata": {
        "colab": {
          "base_uri": "https://localhost:8080/"
        },
        "id": "Pdfhyl3eDVE4",
        "outputId": "02f51928-6f75-4f28-fab5-72966dd11304"
      },
      "execution_count": 129,
      "outputs": [
        {
          "output_type": "stream",
          "name": "stdout",
          "text": [
            "Test Accuracy: 0.46268656849861145\n",
            "Test Loss: 125.0089340209961\n"
          ]
        }
      ]
    },
    {
      "cell_type": "code",
      "source": [
        "#see predictesd data\n",
        "y_pred = model.predict(x_test)\n",
        "y_pred"
      ],
      "metadata": {
        "colab": {
          "base_uri": "https://localhost:8080/"
        },
        "id": "ttaul2ULDc0z",
        "outputId": "58d62aeb-c902-4052-84d3-4847866b5cb2"
      },
      "execution_count": 130,
      "outputs": [
        {
          "output_type": "stream",
          "name": "stdout",
          "text": [
            "3/3 [==============================] - 0s 5ms/step\n"
          ]
        },
        {
          "output_type": "execute_result",
          "data": {
            "text/plain": [
              "array([[0.9324533 , 0.        , 0.06754669],\n",
              "       [0.8872046 , 0.        , 0.11279541],\n",
              "       [0.9840936 , 0.        , 0.01590639],\n",
              "       [0.96036124, 0.        , 0.03963884],\n",
              "       [0.96036124, 0.        , 0.03963884],\n",
              "       [0.95531917, 0.        , 0.04468087],\n",
              "       [0.9688562 , 0.        , 0.03114383],\n",
              "       [0.98087597, 0.        , 0.01912404],\n",
              "       [0.96036124, 0.        , 0.03963884],\n",
              "       [0.9626731 , 0.        , 0.03732689],\n",
              "       [0.96978533, 0.        , 0.03021459],\n",
              "       [0.9465967 , 0.        , 0.05340333],\n",
              "       [0.79818684, 0.        , 0.20181324],\n",
              "       [0.9324533 , 0.        , 0.06754669],\n",
              "       [0.95257413, 0.        , 0.04742588],\n",
              "       [0.9099069 , 0.        , 0.09009299],\n",
              "       [0.95531917, 0.        , 0.04468087],\n",
              "       [0.89029425, 0.        , 0.10970578],\n",
              "       [0.96485513, 0.        , 0.03514485],\n",
              "       [0.9099069 , 0.        , 0.09009299],\n",
              "       [0.8774767 , 0.        , 0.1225232 ],\n",
              "       [0.91964257, 0.        , 0.08035747],\n",
              "       [0.9724147 , 0.        , 0.02758528],\n",
              "       [0.9433475 , 0.        , 0.05665242],\n",
              "       [0.9688562 , 0.        , 0.03114383],\n",
              "       [0.989013  , 0.        , 0.01098694],\n",
              "       [0.9796676 , 0.        , 0.02033235],\n",
              "       [0.936285  , 0.        , 0.063715  ],\n",
              "       [0.96036124, 0.        , 0.03963884],\n",
              "       [0.91490096, 0.        , 0.08509905],\n",
              "       [0.9688562 , 0.        , 0.03114383],\n",
              "       [0.96691406, 0.        , 0.03308598],\n",
              "       [0.96691406, 0.        , 0.03308598],\n",
              "       [0.98087597, 0.        , 0.01912404],\n",
              "       [0.8774767 , 0.        , 0.1225232 ],\n",
              "       [0.97838473, 0.        , 0.02161534],\n",
              "       [0.936285  , 0.        , 0.063715  ],\n",
              "       [0.91490096, 0.        , 0.08509905],\n",
              "       [0.9433475 , 0.        , 0.05665242],\n",
              "       [0.9740426 , 0.        , 0.02595736],\n",
              "       [0.91490096, 0.        , 0.08509905],\n",
              "       [0.9433475 , 0.        , 0.05665242],\n",
              "       [0.95531917, 0.        , 0.04468087],\n",
              "       [0.93991333, 0.        , 0.06008665],\n",
              "       [0.9755769 , 0.        , 0.02442309],\n",
              "       [0.91964257, 0.        , 0.08035747],\n",
              "       [0.91490096, 0.        , 0.08509905],\n",
              "       [0.9304582 , 0.        , 0.06954174],\n",
              "       [0.98201376, 0.        , 0.01798621],\n",
              "       [0.98087597, 0.        , 0.01912404],\n",
              "       [0.93991333, 0.        , 0.06008665],\n",
              "       [0.9579122 , 0.        , 0.04208773],\n",
              "       [0.9796676 , 0.        , 0.02033235],\n",
              "       [0.936285  , 0.        , 0.063715  ],\n",
              "       [0.8519528 , 0.        , 0.1480472 ],\n",
              "       [0.92840874, 0.        , 0.0715912 ],\n",
              "       [0.8479678 , 0.        , 0.15203224],\n",
              "       [0.98087597, 0.        , 0.01912404],\n",
              "       [0.9019207 , 0.        , 0.09807932],\n",
              "       [0.95531917, 0.        , 0.04468087],\n",
              "       [0.91964257, 0.        , 0.08035747],\n",
              "       [0.98087597, 0.        , 0.01912404],\n",
              "       [0.9496693 , 0.        , 0.05033063],\n",
              "       [0.9850429 , 0.        , 0.01495709],\n",
              "       [0.9465967 , 0.        , 0.05340333],\n",
              "       [0.95257413, 0.        , 0.04742588],\n",
              "       [0.9890131 , 0.        , 0.01098694]], dtype=float32)"
            ]
          },
          "metadata": {},
          "execution_count": 130
        }
      ]
    },
    {
      "cell_type": "code",
      "source": [
        "#compare actual outputs and preditded outputs\n",
        "actual = np.argmax(y_test, axis = 1)\n",
        "predicted = np.argmax(y_pred, axis = 1)\n",
        "print(f\"Actual: {actual}\")\n",
        "print(f\"Predicted: {predicted}\")"
      ],
      "metadata": {
        "colab": {
          "base_uri": "https://localhost:8080/"
        },
        "id": "6K1nq2dDDefV",
        "outputId": "35bf4f7c-587a-4fdf-a583-ba47a954b9b6"
      },
      "execution_count": 131,
      "outputs": [
        {
          "output_type": "stream",
          "name": "stdout",
          "text": [
            "Actual: [2 2 1 0 0 0 0 1 0 0 1 0 2 1 2 2 1 0 0 2 0 2 1 1 1 0 0 2 2 0 0 0 2 0 2 1 1\n",
            " 2 1 0 1 1 0 0 0 0 0 2 0 0 1 0 0 1 2 2 2 0 2 1 0 0 0 1 2 2 0]\n",
            "Predicted: [0 0 0 0 0 0 0 0 0 0 0 0 0 0 0 0 0 0 0 0 0 0 0 0 0 0 0 0 0 0 0 0 0 0 0 0 0\n",
            " 0 0 0 0 0 0 0 0 0 0 0 0 0 0 0 0 0 0 0 0 0 0 0 0 0 0 0 0 0 0]\n"
          ]
        }
      ]
    }
  ]
}